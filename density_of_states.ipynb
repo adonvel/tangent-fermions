{
 "cells": [
  {
   "cell_type": "markdown",
   "metadata": {},
   "source": [
    "# Tangent fermions: density of states\n",
    "\n",
    "In this notebook we show how to use the code in tangent_fermions.py to calculate DOS in a system. Let us do so by reproducing figure 10."
   ]
  },
  {
   "cell_type": "code",
   "execution_count": 1,
   "metadata": {},
   "outputs": [],
   "source": [
    "import tangent_fermions as tf\n",
    "import numpy as np\n",
    "from math import pi\n",
    "import matplotlib.pyplot as plt\n",
    "import scipy.sparse.linalg as sla"
   ]
  },
  {
   "cell_type": "markdown",
   "metadata": {},
   "source": [
    "But first, let us do a less time consuming version (smaller system)"
   ]
  },
  {
   "cell_type": "code",
   "execution_count": 2,
   "metadata": {},
   "outputs": [],
   "source": [
    "def make_DOS(parameters, number_of_realisations = 1000, number_of_bands = int(200), number_of_bins =  500):\n",
    "    \n",
    "    ''' Calculates and plots the density of states for 1000 realisations of magnetic field configuration.'''\n",
    "    \n",
    "    #Solve generalised eigenproblem\n",
    "    realisations = np.arange(0,number_of_realisations,1, dtype = int)\n",
    "    spectrum = np.zeros((number_of_realisations, number_of_bands))\n",
    "\n",
    "    for realisation in realisations:\n",
    "        print(realisation+1)\n",
    "        Phi, H, P = tf.operators_real(parameters)\n",
    "        eigenvalues = sla.eigsh(H, M=P, k = number_of_bands, tol = 0, sigma = 0.00001,which = 'LM',return_eigenvectors = False)\n",
    "        \n",
    "        spectrum[int(realisation)] = np.sort(eigenvalues)\n",
    "    \n",
    "    binning = np.linspace(-0.05,0.05, number_of_bins, endpoint = True)\n",
    "    histogram, bin_edges = np.histogram(spectrum, bins = binning, density = False )\n",
    "    \n",
    "    return histogram, bin_edges"
   ]
  },
  {
   "cell_type": "code",
   "execution_count": 3,
   "metadata": {},
   "outputs": [
    {
     "name": "stdout",
     "output_type": "stream",
     "text": [
      "1\n"
     ]
    }
   ],
   "source": [
    "parameters = dict(\n",
    "    Nx = 51,\n",
    "    Ny = 201,\n",
    "    N1 = 50,\n",
    "    d1 = 50,\n",
    "    N2 = 50,\n",
    "    kx = 0,\n",
    "    ky = 0,\n",
    "    potential = lambda x,y: 0*x,\n",
    "    mass = lambda x,y: 0*x,\n",
    "    B1 = 0.5*2*pi/50,\n",
    "    disorder = 0\n",
    ")\n",
    "\n",
    "histogram_clean, bin_edges = make_DOS(parameters, number_of_realisations = 1, number_of_bands = 50, number_of_bins = 500)"
   ]
  },
  {
   "cell_type": "code",
   "execution_count": 4,
   "metadata": {},
   "outputs": [
    {
     "name": "stdout",
     "output_type": "stream",
     "text": [
      "1\n",
      "2\n",
      "3\n",
      "4\n",
      "5\n",
      "6\n",
      "7\n",
      "8\n",
      "9\n",
      "10\n",
      "11\n",
      "12\n",
      "13\n",
      "14\n",
      "15\n",
      "16\n",
      "17\n",
      "18\n",
      "19\n",
      "20\n",
      "21\n",
      "22\n",
      "23\n",
      "24\n",
      "25\n",
      "26\n",
      "27\n",
      "28\n",
      "29\n",
      "30\n",
      "31\n",
      "32\n",
      "33\n",
      "34\n",
      "35\n",
      "36\n",
      "37\n",
      "38\n",
      "39\n",
      "40\n",
      "41\n",
      "42\n",
      "43\n",
      "44\n",
      "45\n",
      "46\n",
      "47\n",
      "48\n",
      "49\n",
      "50\n",
      "51\n",
      "52\n",
      "53\n",
      "54\n",
      "55\n",
      "56\n",
      "57\n",
      "58\n",
      "59\n",
      "60\n",
      "61\n",
      "62\n",
      "63\n",
      "64\n",
      "65\n",
      "66\n",
      "67\n",
      "68\n",
      "69\n",
      "70\n",
      "71\n",
      "72\n",
      "73\n",
      "74\n",
      "75\n",
      "76\n",
      "77\n",
      "78\n",
      "79\n",
      "80\n",
      "81\n",
      "82\n",
      "83\n",
      "84\n",
      "85\n",
      "86\n",
      "87\n",
      "88\n",
      "89\n",
      "90\n",
      "91\n",
      "92\n",
      "93\n",
      "94\n",
      "95\n",
      "96\n",
      "97\n",
      "98\n",
      "99\n",
      "100\n"
     ]
    }
   ],
   "source": [
    "parameters['disorder'] = 2*pi/50\n",
    "histogram_disordered, bin_edges = make_DOS(parameters, number_of_realisations = 100, number_of_bands = 50, number_of_bins = 500)"
   ]
  },
  {
   "cell_type": "code",
   "execution_count": 5,
   "metadata": {},
   "outputs": [
    {
     "data": {
      "text/plain": [
       "Text(0.5, 0, '$E$ ($\\\\sqrt{2\\\\hbar e v_0^2 B}$)')"
      ]
     },
     "execution_count": 5,
     "metadata": {},
     "output_type": "execute_result"
    },
    {
     "data": {
      "image/png": "[encoded data removed]",
      "text/plain": [
       "<Figure size 504x504 with 2 Axes>"
      ]
     },
     "metadata": {
      "needs_background": "light"
     },
     "output_type": "display_data"
    }
   ],
   "source": [
    "binning = np.linspace(-0.05,0.05, len(bin_edges-1), endpoint = True)\n",
    "first_ll = np.sqrt(2*pi/50)\n",
    "de = (np.roll(binning,-1)-binning)[0]\n",
    "number_of_realisations = 100\n",
    "\n",
    "fig = plt.figure(figsize = (7,7))\n",
    "\n",
    "ax1 = fig.add_subplot(121)\n",
    "ax1.bar((bin_edges[1:]+bin_edges[:-1])/2/first_ll,histogram_clean/de*first_ll/parameters['Nx']/parameters['Nx']/2,width = de/first_ll)\n",
    "ax1.set_xlim(-0.02,0.02)\n",
    "ax1.set_ylim(0,17)\n",
    "ax1.set_xlabel(r'$E$ ($\\sqrt{2\\hbar e v_0^2 B}$)',fontsize = 18)\n",
    "ax1.set_ylabel(r'$\\rho(E)$ ($(2\\hbar e v_0^2 B)^{-1/2}L^{-2}$)',fontsize = 18)\n",
    "\n",
    "ax2 = fig.add_subplot(122)\n",
    "ax2.bar((bin_edges[1:]+bin_edges[:-1])/2/first_ll,histogram_disordered/number_of_realisations/de*first_ll/parameters['Nx']/parameters['Nx']/2,width = de/first_ll)\n",
    "ax2.set_xlim(-0.02,0.02)\n",
    "ax2.set_ylim(0,17)\n",
    "ax2.set_xlabel(r'$E$ ($\\sqrt{2\\hbar e v_0^2 B}$)',fontsize = 18)\n"
   ]
  },
  {
   "cell_type": "markdown",
   "metadata": {},
   "source": [
    "The next cell contains the parameters to reproduce the figure in the review"
   ]
  },
  {
   "cell_type": "code",
   "execution_count": null,
   "metadata": {},
   "outputs": [
    {
     "name": "stdout",
     "output_type": "stream",
     "text": [
      "1\n",
      "1\n",
      "2\n",
      "3\n",
      "4\n",
      "5\n",
      "6\n",
      "7\n",
      "8\n",
      "9\n",
      "10\n",
      "11\n",
      "12\n",
      "13\n",
      "14\n",
      "15\n"
     ]
    }
   ],
   "source": [
    "parameters = dict(\n",
    "    Nx = 101,\n",
    "    Ny = 401,\n",
    "    N1 = 100,\n",
    "    d1 = 100,\n",
    "    N2 = 100,\n",
    "    kx = 0,\n",
    "    ky = 0,\n",
    "    potential = lambda x,y: 0*x,\n",
    "    mass = lambda x,y: 0*x,\n",
    "    B1 = pi/100,\n",
    "    disorder = 0\n",
    ")\n",
    "\n",
    "histogram_clean, bin_edges = make_DOS(parameters, number_of_realisations = 1, number_of_bands = 200, number_of_bins = 2000)\n",
    "\n",
    "parameters['disorder'] = 2*pi/100\n",
    "histogram_disordered, bin_edges = make_DOS(parameters, number_of_realisations = 1000, number_of_bands = 200, number_of_bins = 2000)\n",
    "\n",
    "binning = np.linspace(-0.05,0.05, len(bin_edges-1), endpoint = True)\n",
    "first_ll = np.sqrt(2*pi/100)\n",
    "de = (np.roll(binning,-1)-binning)[0]\n",
    "number_of_realisations = 1000\n",
    "\n",
    "fig = plt.figure(figsize = (7,7))\n",
    "\n",
    "ax1 = fig.add_subplot(121)\n",
    "ax1.bar((bin_edges[1:]+bin_edges[:-1])/2/first_ll,histogram_clean/de*first_ll/parameters['Nx']/parameters['Nx']/2,width = de/first_ll)\n",
    "ax1.set_xlim(-0.02,0.02)\n",
    "#ax1.set_ylim(0,17)\n",
    "ax1.set_xlabel(r'$E$ ($\\sqrt{2\\hbar e v_0^2 B}$)',fontsize = 18)\n",
    "ax1.set_ylabel(r'$\\rho(E)$ ($(2\\hbar e v_0^2 B)^{-1/2}L^{-2}$)',fontsize = 18)\n",
    "\n",
    "ax2 = fig.add_subplot(122)\n",
    "ax2.bar((bin_edges[1:]+bin_edges[:-1])/2/first_ll,histogram_disordered/number_of_realisations/de*first_ll/parameters['Nx']/parameters['Nx']/2,width = de/first_ll)\n",
    "ax2.set_xlim(-0.02,0.02)\n",
    "#ax2.set_ylim(0,17)\n",
    "ax2.set_xlabel(r'$E$ ($\\sqrt{2\\hbar e v_0^2 B}$)',fontsize = 18)\n"
   ]
  },
  {
   "cell_type": "code",
   "execution_count": null,
   "metadata": {},
   "outputs": [],
   "source": []
  }
 ],
 "metadata": {
  "kernelspec": {
   "display_name": "Python 3",
   "language": "python",
   "name": "python3"
  },
  "language_info": {
   "codemirror_mode": {
    "name": "ipython",
    "version": 3
   },
   "file_extension": ".py",
   "mimetype": "text/x-python",
   "name": "python",
   "nbconvert_exporter": "python",
   "pygments_lexer": "ipython3",
   "version": "3.7.3"
  }
 },
 "nbformat": 4,
 "nbformat_minor": 2
}
