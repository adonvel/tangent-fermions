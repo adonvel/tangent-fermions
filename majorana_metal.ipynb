{
 "cells": [
  {
   "cell_type": "markdown",
   "metadata": {},
   "source": [
    "# Tangent fermions: Majorana metal\n",
    "\n",
    "In this notebook we show how to use the code in tangent_fermions.py produce the phase diagram of figure 11 of arXiv:2302.12793"
   ]
  },
  {
   "cell_type": "code",
   "execution_count": 1,
   "metadata": {},
   "outputs": [],
   "source": [
    "import tangent_fermions as tf\n",
    "import numpy as np\n",
    "from math import pi\n",
    "import matplotlib.pyplot as plt\n",
    "import scipy.sparse.linalg as sla\n",
    "\n",
    "from scipy.linalg import eigh\n",
    "from scipy.stats.mstats import gmean"
   ]
  },
  {
   "cell_type": "markdown",
   "metadata": {},
   "source": [
    "First, let us do a coarser sampling with less realisations for time's sake"
   ]
  },
  {
   "cell_type": "code",
   "execution_count": 2,
   "metadata": {
    "scrolled": false
   },
   "outputs": [
    {
     "name": "stdout",
     "output_type": "stream",
     "text": [
      "Column  1  out of  31\n",
      "Column  2  out of  31\n",
      "Column  3  out of  31\n",
      "Column  4  out of  31\n",
      "Column  5  out of  31\n",
      "Column  6  out of  31\n",
      "Column  7  out of  31\n",
      "Column  8  out of  31\n",
      "Column  9  out of  31\n",
      "Column  10  out of  31\n",
      "Column  11  out of  31\n",
      "Column  12  out of  31\n",
      "Column  13  out of  31\n",
      "Column  14  out of  31\n",
      "Column  15  out of  31\n",
      "Column  16  out of  31\n",
      "Column  17  out of  31\n",
      "Column  18  out of  31\n",
      "Column  19  out of  31\n",
      "Column  20  out of  31\n",
      "Column  21  out of  31\n",
      "Column  22  out of  31\n",
      "Column  23  out of  31\n",
      "Column  24  out of  31\n",
      "Column  25  out of  31\n",
      "Column  26  out of  31\n",
      "Column  27  out of  31\n",
      "Column  28  out of  31\n",
      "Column  29  out of  31\n",
      "Column  30  out of  31\n",
      "Column  31  out of  31\n"
     ]
    }
   ],
   "source": [
    "finesse = 31\n",
    "means = np.linspace(-2,2,finesse)\n",
    "variances = np.linspace(0,6,finesse)\n",
    "deltaE = 0.23\n",
    "number_of_eigenvalues = 60\n",
    "number_of_realisations = 20\n",
    "\n",
    "def mass(mean, var, Ny, Nx):\n",
    "    mass_array = 2*var*np.random.rand(Ny,Nx)\n",
    "    mass_array = mass_array - np.average(mass_array) + mean*np.ones((Ny,Nx))\n",
    "    return mass_array\n",
    "\n",
    "Nx = 20\n",
    "Ny = 20\n",
    "\n",
    "parameters = dict(\n",
    "    Nx = Nx,\n",
    "    Ny = Ny,\n",
    "    B1 = 0, # no magnetic field\n",
    "    N1 = 0, #\n",
    "    d1 = 0, # These are irrelevant for B1 = 0\n",
    "    N2 = 0, #\n",
    "    potential = lambda x,y:0*x,\n",
    "    kx = pi/Nx,\n",
    "    ky = pi/Ny,#Antiperiodic boundary conditions\n",
    "    disorder = 0\n",
    ")\n",
    "\n",
    "\n",
    "LDOS = np.zeros((len(means),len(variances),Ny,Nx))\n",
    "geometric_average_DOS = np.zeros((len(means),len(variances)))\n",
    "\n",
    "for i,mean in enumerate(means):\n",
    "    print('Column ', i+1, ' out of ', finesse)\n",
    "    for j,var in enumerate(variances):\n",
    "        fermi_states = []\n",
    "        for dummy in range(number_of_realisations):\n",
    "            \n",
    "            parameters['mass'] = lambda x,y: mass(mean, var, Ny, Nx)\n",
    "            Phi, H, P = tf.operators_real(parameters)\n",
    "            \n",
    "            #For this system size it is worth it to do the full diagonalisation\n",
    "            #eigenvalues, eigenstates = sla.eigsh(H, M=P, k = number_of_eigenvalues, tol = 0, sigma = 0, which = 'LM',return_eigenvectors = True)\n",
    "            eigenvalues, eigenstates = eigh(H.A,b=P.A)\n",
    "            \n",
    "            for state in range(len(eigenvalues)):\n",
    "                if np.abs(eigenvalues[state]) < deltaE:\n",
    "                    normalised_state = (Phi@eigenstates[:,state]).reshape(2,Ny,Nx)\n",
    "                    fermi_states.append(normalised_state)\n",
    "                    \n",
    "        fermi_states = np.array(fermi_states)\n",
    "        if fermi_states.shape[0] != 0:\n",
    "            LDOS[i,j] = np.sum(np.abs(fermi_states)**2,axis = (0,1))\n",
    "            geometric_average_DOS[i,j] = gmean(LDOS[i,j], axis = None)*Nx*Ny/number_of_realisations/deltaE"
   ]
  },
  {
   "cell_type": "code",
   "execution_count": 3,
   "metadata": {},
   "outputs": [
    {
     "data": {
      "image/png": "[encoded data removed]",
      "text/plain": [
       "<Figure size 504x504 with 2 Axes>"
      ]
     },
     "metadata": {
      "needs_background": "light"
     },
     "output_type": "display_data"
    }
   ],
   "source": [
    "fig = plt.figure(figsize = (7,7))\n",
    "orig_map=plt.cm.get_cmap('magma')\n",
    "reversed_map = orig_map.reversed()\n",
    "\n",
    "ax = fig.add_subplot(111)\n",
    "pos = ax.imshow(geometric_average_DOS.T,cmap=reversed_map, extent=[-2,2,0,6], origin = 'lower', vmax = 180)\n",
    "ax.set_title(r'Phase diagram', fontsize = 20)\n",
    "ax.set_xlabel(r'$E$ ($\\hbar v/a$)', fontsize = 14)\n",
    "ax.set_ylabel(r'$\\delta E$  ($\\hbar v/a$)', fontsize = 14)\n",
    "\n",
    "fig.subplots_adjust(right=0.88)\n",
    "c_loc = fig.add_axes([0.8, 0.125, 0.04, 0.755])\n",
    "cbar = fig.colorbar(pos, cax=c_loc)\n",
    "cbar.set_label(r'$\\rho_g$   ($a/\\hbar v$)',fontsize = 14,labelpad = 15 )"
   ]
  },
  {
   "cell_type": "markdown",
   "metadata": {},
   "source": [
    "The following cell contains the parameters to reproduce figure 11 of arXiv:2302.12793"
   ]
  },
  {
   "cell_type": "code",
   "execution_count": null,
   "metadata": {},
   "outputs": [],
   "source": [
    "finesse = 201\n",
    "means = np.linspace(-2,2,finesse)\n",
    "variances = np.linspace(0,6,finesse)\n",
    "deltaE = 0.23\n",
    "number_of_eigenvalues = 60\n",
    "number_of_realisations = 50\n",
    "\n",
    "def mass(mean, var, Ny, Nx):\n",
    "    mass_array = 2*var*np.random.rand(Ny,Nx)\n",
    "    mass_array = mass_array - np.average(mass_array) + mean*np.ones((Ny,Nx))\n",
    "    return mass_array\n",
    "\n",
    "Nx = 20\n",
    "Ny = 20\n",
    "\n",
    "parameters = dict(\n",
    "    Nx = Nx,\n",
    "    Ny = Ny,\n",
    "    B1 = 0, # no magnetic field\n",
    "    N1 = 0, #\n",
    "    d1 = 0, # These are irrelevant for B1 = 0\n",
    "    N2 = 0, #\n",
    "    potential = lambda x,y:0*x,\n",
    "    kx = pi/Nx,\n",
    "    ky = pi/Ny,#Antiperiodic boundary conditions\n",
    "    disorder = 0\n",
    ")\n",
    "\n",
    "\n",
    "LDOS = np.zeros((len(means),len(variances),Ny,Nx))\n",
    "geometric_average_DOS = np.zeros((len(means),len(variances)))\n",
    "\n",
    "for i,mean in enumerate(means):\n",
    "    print('Column ', i+1, ' out of ', finesse)\n",
    "    for j,var in enumerate(variances):\n",
    "        fermi_states = []\n",
    "        for dummy in range(number_of_realisations):\n",
    "            \n",
    "            parameters['mass'] = lambda x,y: mass(mean, var, Ny, Nx)\n",
    "            Phi, H, P = tf.operators_real(parameters)\n",
    "            \n",
    "            #For this system size it is worth it to do the full diagonalisation\n",
    "            #eigenvalues, eigenstates = sla.eigsh(H, M=P, k = number_of_eigenvalues, tol = 0, sigma = 0, which = 'LM',return_eigenvectors = True)\n",
    "            eigenvalues, eigenstates = eigh(H.A,b=P.A)\n",
    "            \n",
    "            for state in range(len(eigenvalues)):\n",
    "                if np.abs(eigenvalues[state]) < deltaE:\n",
    "                    normalised_state = (Phi@eigenstates[:,state]).reshape(2,Ny,Nx)\n",
    "                    fermi_states.append(normalised_state)\n",
    "                    \n",
    "        fermi_states = np.array(fermi_states)\n",
    "        if fermi_states.shape[0] != 0:\n",
    "            LDOS[i,j] = np.sum(np.abs(fermi_states)**2,axis = (0,1))\n",
    "            geometric_average_DOS[i,j] = gmean(LDOS[i,j], axis = None)*Nx*Ny/number_of_realisations/deltaE"
   ]
  }
 ],
 "metadata": {
  "kernelspec": {
   "display_name": "Python 3",
   "language": "python",
   "name": "python3"
  },
  "language_info": {
   "codemirror_mode": {
    "name": "ipython",
    "version": 3
   },
   "file_extension": ".py",
   "mimetype": "text/x-python",
   "name": "python",
   "nbconvert_exporter": "python",
   "pygments_lexer": "ipython3",
   "version": "3.7.3"
  }
 },
 "nbformat": 4,
 "nbformat_minor": 2
}
